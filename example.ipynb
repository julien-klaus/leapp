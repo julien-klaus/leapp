{
 "cells": [
  {
   "cell_type": "markdown",
   "metadata": {
    "collapsed": true,
    "pycharm": {
     "name": "#%% md\n"
    }
   },
   "source": [
    "## Example using LEAPP\n",
    "\n",
    "First load the class `LearnPP`"
   ]
  },
  {
   "cell_type": "code",
   "source": [
    "import numpy as np\n",
    "import pandas as pd\n",
    "from sklearn.datasets import load_iris\n",
    "\n",
    "# we use the iris data set\n",
    "iris = load_iris()\n",
    "data = pd.DataFrame(data= np.c_[iris['data'], iris['target']],\n",
    "                     columns= ['sl', 'sw', 'pl', 'pw', 'target'])\n",
    "data['target'] = data['target'].astype(\"object\")\n",
    "\n",
    "print(data.head())\n",
    "\n",
    "from leapp.LearnPP import LearnPP\n",
    "\n",
    "leapp = LearnPP()\n",
    "# if error during fit, try the following line\n",
    "# leapp = LearnPP(install_packages=True)\n",
    "\n",
    "leapp.fit(data)"
   ],
   "metadata": {
    "collapsed": false,
    "pycharm": {
     "name": "#%%\n"
    }
   },
   "execution_count": 9,
   "outputs": [
    {
     "name": "stdout",
     "output_type": "stream",
     "text": [
      "    sl   sw   pl   pw target\n",
      "0  5.1  3.5  1.4  0.2      0\n",
      "1  4.9  3.0  1.4  0.2      0\n",
      "2  4.7  3.2  1.3  0.2      0\n",
      "3  4.6  3.1  1.5  0.2      0\n",
      "4  5.0  3.6  1.4  0.2      0\n",
      "/home/julien/PycharmProjects/leapp/_tmp.dat\n"
     ]
    }
   ]
  },
  {
   "cell_type": "markdown",
   "source": [
    "We can not get the pymc3 code. (If you get a `get_node` is `None` error. Try using `LearnPP(install_packages=True)`)"
   ],
   "metadata": {
    "collapsed": false,
    "pycharm": {
     "name": "#%% md\n"
    }
   }
  },
  {
   "cell_type": "code",
   "execution_count": 10,
   "outputs": [
    {
     "name": "stdout",
     "output_type": "stream",
     "text": [
      "import pymc3 as pm\n",
      "import theano.tensor as tt\n",
      "with pm.Model() as model:\n",
      "    target = pm.Categorical('target', p=[0.3333,0.3333,0.3333])\n",
      "    pl = pm.Normal('pl', mu=tt.switch(tt.eq(target, 0), 1.462, tt.switch(tt.eq(target, 1), 4.26, 5.552)), sigma=tt.switch(tt.eq(target, 0), 0.1737, tt.switch(tt.eq(target, 1), 0.4699, 0.5519)))\n",
      "    pw = pm.Normal('pw', mu=tt.switch(tt.eq(target, 0), pl*0.2012+-0.0482, tt.switch(tt.eq(target, 1), pl*0.3311+-0.0843, pl*0.1603+1.136)), sigma=tt.switch(tt.eq(target, 0), 0.1005, tt.switch(tt.eq(target, 1), 0.1234, 0.2627)))\n",
      "    sw = pm.Normal('sw', mu=tt.switch(tt.eq(target, 0), pw*0.8372+3.2221, tt.switch(tt.eq(target, 1), pw*1.0536+1.3729, pw*0.6314+1.6948)), sigma=tt.switch(tt.eq(target, 0), 0.3725, tt.switch(tt.eq(target, 1), 0.2371, 0.2747)))\n",
      "    sl = pm.Normal('sl', mu=sw*0.6508+pl*0.7091+pw*-0.5565+1.856, sigma=0.3145)\n",
      "\n"
     ]
    }
   ],
   "source": [
    "print(leapp.get_pymc_code())"
   ],
   "metadata": {
    "collapsed": false,
    "pycharm": {
     "name": "#%%\n"
    }
   }
  },
  {
   "cell_type": "markdown",
   "source": [
    "With this code we can answer queries like give me the class\n",
    "for the given `pl` and `sw` or give `sl` given the class and `pl`."
   ],
   "metadata": {
    "collapsed": false,
    "pycharm": {
     "name": "#%% md\n"
    }
   }
  },
  {
   "cell_type": "code",
   "execution_count": 12,
   "outputs": [
    {
     "name": "stderr",
     "output_type": "stream",
     "text": [
      "Multiprocess sampling (4 chains in 4 jobs)\n",
      "CompoundStep\n",
      ">CategoricalGibbsMetropolis: [target]\n",
      ">NUTS: [sl, pw]\n",
      "Sampling 4 chains, 0 divergences: 100%|██████████| 4040/4040 [00:04<00:00, 935.08draws/s] \n",
      "/home/julien/anaconda3/envs/leapp/lib/python3.7/site-packages/xarray/core/nputils.py:227: RuntimeWarning: All-NaN slice encountered\n",
      "  result = getattr(npmodule, name)(values, axis=axis, **kwargs)\n",
      "The acceptance probability does not match the target. It is 0.9571670402356157, but should be close to 0.8. Try to increase the number of tuning steps.\n",
      "The acceptance probability does not match the target. It is 0.9383869964614966, but should be close to 0.8. Try to increase the number of tuning steps.\n",
      "The acceptance probability does not match the target. It is 0.9723978455049981, but should be close to 0.8. Try to increase the number of tuning steps.\n",
      "The acceptance probability does not match the target. It is 0.9522782196754975, but should be close to 0.8. Try to increase the number of tuning steps.\n"
     ]
    },
    {
     "name": "stdout",
     "output_type": "stream",
     "text": [
      "[0]\n"
     ]
    }
   ],
   "source": [
    "# query 1: p(class|pl=1.4, sw=3.6)\n",
    "import pymc3 as pm\n",
    "import theano.tensor as tt\n",
    "\n",
    "# define the model and set the observed variables with values\n",
    "with pm.Model() as model:\n",
    "    target = pm.Categorical('target', p=[0.3333,0.3333,0.3333])\n",
    "    pl = pm.Normal('pl', observed=1.4, mu=tt.switch(tt.eq(target, 0), 1.462, tt.switch(tt.eq(target, 1), 4.26, 5.552)), sigma=tt.switch(tt.eq(target, 0), 0.1737, tt.switch(tt.eq(target, 1), 0.4699, 0.5519)))\n",
    "    pw = pm.Normal('pw', mu=tt.switch(tt.eq(target, 0), pl*0.2012+-0.0482, tt.switch(tt.eq(target, 1), pl*0.3311+-0.0843, pl*0.1603+1.136)), sigma=tt.switch(tt.eq(target, 0), 0.1005, tt.switch(tt.eq(target, 1), 0.1234, 0.2627)))\n",
    "    sw = pm.Normal('sw', observed=3.6, mu=tt.switch(tt.eq(target, 0), pw*0.8372+3.2221, tt.switch(tt.eq(target, 1), pw*1.0536+1.3729, pw*0.6314+1.6948)), sigma=tt.switch(tt.eq(target, 0), 0.3725, tt.switch(tt.eq(target, 1), 0.2371, 0.2747)))\n",
    "    sl = pm.Normal('sl', mu=sw*0.6508+pl*0.7091+pw*-0.5565+1.856, sigma=0.3145)\n",
    "\n",
    "# draw samples from this model\n",
    "with model:\n",
    "    samples = pm.sample(draws=1000, tune=10)\n",
    "\n",
    "# what class was observed the most?\n",
    "print([i for i, j in zip(np.unique(samples['target']), np.bincount(samples['target']))][0])"
   ],
   "metadata": {
    "collapsed": false,
    "pycharm": {
     "name": "#%%\n"
    }
   }
  },
  {
   "cell_type": "code",
   "execution_count": 13,
   "outputs": [
    {
     "name": "stderr",
     "output_type": "stream",
     "text": [
      "Auto-assigning NUTS sampler...\n",
      "Initializing NUTS using jitter+adapt_diag...\n",
      "Multiprocess sampling (4 chains in 4 jobs)\n",
      "NUTS: [sl, sw, pw]\n",
      "Sampling 4 chains, 0 divergences: 100%|██████████| 4040/4040 [00:04<00:00, 817.15draws/s]\n",
      "The acceptance probability does not match the target. It is 0.9331436202405704, but should be close to 0.8. Try to increase the number of tuning steps.\n",
      "The acceptance probability does not match the target. It is 0.9442912081621049, but should be close to 0.8. Try to increase the number of tuning steps.\n",
      "The acceptance probability does not match the target. It is 0.96756551447661, but should be close to 0.8. Try to increase the number of tuning steps.\n",
      "The acceptance probability does not match the target. It is 0.9456371111710484, but should be close to 0.8. Try to increase the number of tuning steps.\n"
     ]
    },
    {
     "name": "stdout",
     "output_type": "stream",
     "text": [
      "3.9238394538837866\n"
     ]
    }
   ],
   "source": [
    "# query 2: most probable sl given the class 1 and pl=1.5\n",
    "\n",
    "# we define the following helper function\n",
    "def mep(samples, bins=1000):\n",
    "    # get bins and boarders\n",
    "    b, m = np.histogram(samples, bins=bins)\n",
    "    # get the boarders for the bin\n",
    "    d, c = (m[[k for k, (i, j) in enumerate(zip(b, m)) if i == max(b)][0] - 1], m[[k for k, (i, j) in enumerate(zip(b, m)) if i == max(b)][0]])\n",
    "    # get the samples inside of this bin\n",
    "    s1 = sorted(samples)\n",
    "    s2 = samples[samples >= d]\n",
    "    s3 = s2[s2 <= c]\n",
    "    # return the mean of this bin\n",
    "    return np.mean(s3)\n",
    "\n",
    "# define the model and set the observed variables with values\n",
    "with pm.Model() as model:\n",
    "    target = pm.Categorical('target', observed=1, p=[0.3333,0.3333,0.3333])\n",
    "    pl = pm.Normal('pl', observed=1.5, mu=tt.switch(tt.eq(target, 0), 1.462, tt.switch(tt.eq(target, 1), 4.26, 5.552)), sigma=tt.switch(tt.eq(target, 0), 0.1737, tt.switch(tt.eq(target, 1), 0.4699, 0.5519)))\n",
    "    pw = pm.Normal('pw', mu=tt.switch(tt.eq(target, 0), pl*0.2012+-0.0482, tt.switch(tt.eq(target, 1), pl*0.3311+-0.0843, pl*0.1603+1.136)), sigma=tt.switch(tt.eq(target, 0), 0.1005, tt.switch(tt.eq(target, 1), 0.1234, 0.2627)))\n",
    "    sw = pm.Normal('sw', mu=tt.switch(tt.eq(target, 0), pw*0.8372+3.2221, tt.switch(tt.eq(target, 1), pw*1.0536+1.3729, pw*0.6314+1.6948)), sigma=tt.switch(tt.eq(target, 0), 0.3725, tt.switch(tt.eq(target, 1), 0.2371, 0.2747)))\n",
    "    sl = pm.Normal('sl', mu=sw*0.6508+pl*0.7091+pw*-0.5565+1.856, sigma=0.3145)\n",
    "\n",
    "# draw samples from this model\n",
    "with model:\n",
    "    samples = pm.sample(draws=1000, tune=10)\n",
    "\n",
    "# what class was observed the most?\n",
    "print(mep(samples['sl']))"
   ],
   "metadata": {
    "collapsed": false,
    "pycharm": {
     "name": "#%%\n"
    }
   }
  }
 ],
 "metadata": {
  "kernelspec": {
   "display_name": "Python 3",
   "language": "python",
   "name": "python3"
  },
  "language_info": {
   "codemirror_mode": {
    "name": "ipython",
    "version": 2
   },
   "file_extension": ".py",
   "mimetype": "text/x-python",
   "name": "python",
   "nbconvert_exporter": "python",
   "pygments_lexer": "ipython2",
   "version": "2.7.6"
  }
 },
 "nbformat": 4,
 "nbformat_minor": 0
}